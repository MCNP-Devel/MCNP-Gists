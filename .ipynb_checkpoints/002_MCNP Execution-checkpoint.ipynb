{
 "cells": [
  {
   "cell_type": "markdown",
   "metadata": {},
   "source": [
    "# Function to get total time from MCNP _outp_ file"
   ]
  },
  {
   "cell_type": "code",
   "execution_count": 107,
   "metadata": {
    "ExecuteTime": {
     "end_time": "2020-02-25T20:17:58.542753Z",
     "start_time": "2020-02-25T20:17:58.505775Z"
    }
   },
   "outputs": [],
   "source": [
    "from datetime import datetime\n",
    "import time\n",
    "def get_totaltime(filename):\n",
    "    outp = open(filename,'r').read().split('\\n')\n",
    "\n",
    "    time1 = ''\n",
    "    time2 = ''\n",
    "    for line in outp:\n",
    "        if 'mcnp' in line and 'version 6' in line and 'probid' in line:\n",
    "            str = line.replace('     ',' ').split(' ')\n",
    "            time1 = str[10]\n",
    "            time2 = str[19]\n",
    "    datetime2 = datetime.strptime(time2, '%H:%M:%S')\n",
    "    datetime1 = datetime.strptime(time1, '%H:%M:%S')\n",
    "\n",
    "    diff = datetime1 - datetime2\n",
    "    \n",
    "    return time.strftime('%H:%M:%S', time.gmtime(diff.seconds))\n",
    "\n",
    "## Example of use\n",
    "## get_totaltime('mdeck-1-water-05-050.o62')"
   ]
  },
  {
   "cell_type": "markdown",
   "metadata": {},
   "source": [
    "## Getting the execution times of all MCNP _outp_ files under the current folder"
   ]
  },
  {
   "cell_type": "code",
   "execution_count": 142,
   "metadata": {
    "ExecuteTime": {
     "end_time": "2020-02-25T20:45:59.734549Z",
     "start_time": "2020-02-25T20:45:59.539174Z"
    },
    "scrolled": false
   },
   "outputs": [
    {
     "name": "stdout",
     "output_type": "stream",
     "text": [
      ".ipynb_checkpoints\n",
      "Img\n",
      "Iteration-1.1 [Water]\n",
      "\tmdeck-1-water-10.o62          00:55:38\n",
      "\tmdeck-1-water-15.o62          00:57:20\n",
      "\tmdeck-1-water-20.o62          00:57:51\n",
      "\tmdeck-1-water-25.o62          00:58:27\n",
      "\tmdeck-1-water-30-wasabi.o62   01:59:08\n",
      "\tmdeck-1-water-35-wasabi.o62   01:59:44\n",
      "\tmdeck-1-water-35.o62          01:00:04\n",
      "\tmdeck-1-water-40-wasabi.o62   01:58:46\n",
      "\tmdeck-1-water-40.o62          01:00:30\n",
      "\tmdeck-1-water-45.o62          01:00:06\n",
      "\tmdeck-1-water-50.o62          00:59:12\n",
      "Iteration-1.2 [Water]\n",
      "\tmdeck-1-water-05.o62          00:49:47\n",
      "\tmdeck-1-water-10.o62          00:54:08\n",
      "\tmdeck-1-water-15.o62          00:56:26\n",
      "\tmdeck-1-water-16.o62          00:56:24\n",
      "\tmdeck-1-water-17.o62          00:55:14\n",
      "\tmdeck-1-water-18.o62          00:55:24\n",
      "\tmdeck-1-water-19.o62          00:55:45\n",
      "\tmdeck-1-water-20.o62          00:55:39\n",
      "\tmdeck-1-water-21.o62          00:56:27\n",
      "\tmdeck-1-water-22.o62          00:55:58\n",
      "\tmdeck-1-water-23.o62          00:56:44\n",
      "\tmdeck-1-water-24.o62          00:56:23\n",
      "\tmdeck-1-water-25.o62          01:17:07\n",
      "\tmdeck-1-water-30.o62          01:57:30\n",
      "\tmdeck-1-water-35.o62          01:58:47\n",
      "\tmdeck-1-water-40.o62          02:00:57\n",
      "\tmdeck-1-water-45.o62          02:00:50\n",
      "\tmdeck-1-water-50.o62          01:58:48\n",
      "Iteration-1.3 [Water]\n",
      "\tmdeck-1-water-05-20.o62       00:46:35\n",
      "\tmdeck-1-water-10-20.o62       00:50:24\n",
      "\tmdeck-1-water-15-20.o62       01:01:51\n",
      "\tmdeck-1-water-16-20.o62       01:13:47\n",
      "\tmdeck-1-water-17-20.o62       00:56:25\n",
      "\tmdeck-1-water-18-20.o62       00:56:35\n",
      "\tmdeck-1-water-19-20.o62       00:56:27\n",
      "\tmdeck-1-water-20-20.o62       00:56:30\n",
      "Iteration-1.5 [Water]\n",
      "\tmdeck-1-water-05-100.o62      00:46:03\n",
      "\tmdeck-1-water-10-100.o62      00:50:28\n",
      "\tmdeck-1-water-11-100.o62      00:51:38\n",
      "\tmdeck-1-water-12-100.o62      00:52:02\n",
      "\tmdeck-1-water-13-100.o62      00:54:03\n",
      "Iteration-1.6 [Water]\n",
      "\tmdeck-1-water-05-200.o62      01:36:37\n",
      "\tmdeck-1-water-10-200.o62      01:46:55\n",
      "\tmdeck-1-water-11-200.o62      01:48:22\n",
      "\tmdeck-1-water-12-200.o62      01:50:54\n",
      "\tmdeck-1-water-13-200.o62      01:52:21\n",
      "\tmdeck-1-water-14-200.o62      01:52:36\n",
      "\tmdeck-1-water-15-200.o62      01:53:13\n",
      "\tmdeck-1-water-16-200.o62      01:55:12\n",
      "\tmdeck-1-water-17-200.o62      01:55:40\n",
      "\tmdeck-1-water-18-200.o62      01:55:46\n",
      "\tmdeck-1-water-19-200.o62      02:05:17\n",
      "\tmdeck-1-water-20-200.o62      02:03:40\n",
      "Iteration-2.0 [Marble]\n",
      "\tmdeck-2-marble-01.o62         00:49:19\n",
      "\tmdeck-2-marble-02.o62         00:56:32\n",
      "\tmdeck-2-marble-03.o62         01:02:11\n",
      "\tmdeck-2-marble-04.o62         01:07:41\n",
      "\tmdeck-2-marble-05.o62         01:11:41\n",
      "\tmdeck-2-marble-06.o62         01:14:23\n",
      "\tmdeck-2-marble-07.o62         01:17:19\n",
      "\tmdeck-2-marble-08.o62         01:19:26\n",
      "\tmdeck-2-marble-09.o62         01:20:43\n",
      "\tmdeck-2-marble-10.o62         01:21:56\n",
      "\tmdeck-2-marble-15.o62         01:25:53\n",
      "\tmdeck-2-marble-20.o62         01:29:39\n",
      "\tmdeck-2-marble-21.o62         01:32:56\n",
      "\tmdeck-2-marble-22.o62         01:33:06\n",
      "Iteration-1.4 [Water] - NPS=1e8\n",
      "\tmdeck-1-water-05-050.o62      00:04:49\n",
      "\tmdeck-1-water-10-050.o62      00:05:14\n",
      "\tmdeck-1-water-11-050.o62      00:05:20\n",
      "\tmdeck-1-water-12-050.o62      00:05:22\n",
      "\tmdeck-1-water-13-050.o62      00:05:33\n",
      "\tmdeck-1-water-14-050.o62      00:05:40\n",
      "\tmdeck-1-water-15-050.o62      00:05:44\n",
      "\tmdeck-1-water-16-050.o62      00:05:45\n",
      "\tmdeck-1-water-17-050.o62      00:08:42\n",
      "\tmdeck-1-water-18-050.o62      00:07:07\n",
      "\tmdeck-1-water-19-050.o62      00:05:40\n",
      "\tmdeck-1-water-20-050.o62      00:05:41\n",
      "Iteration-1.4 [Water]\n",
      "\tmdeck-1-water-20-050.o62      00:57:45\n",
      "\tmdeck-1-water-05-050.o62      04:31:26\n",
      "\tmdeck-1-water-10-050.o62      01:34:08\n",
      "\tmdeck-1-water-11-050.o62      00:53:50\n",
      "\tmdeck-1-water-12-050.o62      00:54:00\n",
      "\tmdeck-1-water-13-050.o62      01:00:36\n",
      "\tmdeck-1-water-14-050.o62      00:57:42\n",
      "\tmdeck-1-water-15-050.o62      01:38:24\n",
      "\tmdeck-1-water-16-050.o62      01:00:41\n",
      "\tmdeck-1-water-17-050.o62      01:00:04\n",
      "\tmdeck-1-water-18-050.o62      00:56:49\n",
      "\tmdeck-1-water-19-050.o62      00:57:10\n"
     ]
    }
   ],
   "source": [
    "for folder in os.listdir():\n",
    "    if os.path.isdir(folder):\n",
    "        print(folder)\n",
    "        for filename in os.listdir(folder+'\\\\'):\n",
    "            if '.o62' in filename and not '.csv' in filename and not 'bad' in filename:\n",
    "                print('\\t'+'%-30s'%filename + get_totaltime(folder+'\\\\'+filename))"
   ]
  },
  {
   "cell_type": "code",
   "execution_count": null,
   "metadata": {},
   "outputs": [],
   "source": []
  }
 ],
 "metadata": {
  "hide_input": false,
  "kernelspec": {
   "display_name": "Python 3",
   "language": "python",
   "name": "python3"
  },
  "language_info": {
   "codemirror_mode": {
    "name": "ipython",
    "version": 3
   },
   "file_extension": ".py",
   "mimetype": "text/x-python",
   "name": "python",
   "nbconvert_exporter": "python",
   "pygments_lexer": "ipython3",
   "version": "3.7.6"
  },
  "latex_envs": {
   "LaTeX_envs_menu_present": true,
   "autoclose": false,
   "autocomplete": true,
   "bibliofile": "biblio.bib",
   "cite_by": "apalike",
   "current_citInitial": 1,
   "eqLabelWithNumbers": true,
   "eqNumInitial": 1,
   "hotkeys": {
    "equation": "Ctrl-E",
    "itemize": "Ctrl-I"
   },
   "labels_anchors": false,
   "latex_user_defs": false,
   "report_style_numbering": false,
   "user_envs_cfg": false
  },
  "toc": {
   "base_numbering": 1,
   "nav_menu": {},
   "number_sections": true,
   "sideBar": true,
   "skip_h1_title": false,
   "title_cell": "Table of Contents",
   "title_sidebar": "Contents",
   "toc_cell": false,
   "toc_position": {},
   "toc_section_display": true,
   "toc_window_display": false
  }
 },
 "nbformat": 4,
 "nbformat_minor": 2
}
